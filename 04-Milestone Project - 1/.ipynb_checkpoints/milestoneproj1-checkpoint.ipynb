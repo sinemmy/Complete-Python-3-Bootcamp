{
 "cells": [
  {
   "cell_type": "code",
   "execution_count": 1,
   "metadata": {},
   "outputs": [],
   "source": [
    "def get_position_input(openPositions = list(range(1,10))):\n",
    "    choice = ''\n",
    "    while not choice.isdigit() or choice not in [str(x) for x in openPositions]:\n",
    "        choice = input('Please pick a position (1-9)')\n",
    "        if not choice.isdigit():\n",
    "            print('That is not a digit. Try again.')\n",
    "        if choice not in [str(x) for x in openPositions]:\n",
    "            print('That position is not open.')\n",
    "            print('Please pick from open positions on the board')\n",
    "    return int(choice)\n"
   ]
  },
  {
   "cell_type": "code",
   "execution_count": 2,
   "metadata": {},
   "outputs": [],
   "source": [
    "def display_board(board):\n",
    "    print(board[0:3])\n",
    "    print(board[3:6])\n",
    "    print(board[6:10])"
   ]
  },
  {
   "cell_type": "code",
   "execution_count": 10,
   "metadata": {},
   "outputs": [],
   "source": [
    "def update_board(board, pos, marker='X'):\n",
    "    board[pos] = marker;\n",
    "    return board"
   ]
  },
  {
   "cell_type": "code",
   "execution_count": 11,
   "metadata": {},
   "outputs": [],
   "source": [
    "def check_win(pos):\n",
    "    possibleWins = ((1,2,3),(4,5,6), (7,8,9), (1,4,7),\n",
    "                    (2,5,8),(3,6,9),(1,5,9),(3,5,7))\n",
    "    hasWon = False\n",
    "    for iwin in possibleWins:\n",
    "        hasWon = set(iwin).issubset(set(pos))\n",
    "        if hasWon:\n",
    "            break\n",
    "    return hasWon\n",
    "    "
   ]
  },
  {
   "cell_type": "code",
   "execution_count": 12,
   "metadata": {},
   "outputs": [],
   "source": [
    "def start_tic_tac_toe():\n",
    "    print(\"Welcome! Let's play tic tac toe!\")\n",
    "    print ('You will be asked to pick positions on the board \\n Positions are as follows:')\n",
    "    display_board(list(range(1,10)))\n",
    "    firstMarker = ''\n",
    "    while firstMarker not in ['X','O']:\n",
    "        firstMarker = input('Who goes first? Please input X or O : ')\n",
    "    return firstMarker"
   ]
  },
  {
   "cell_type": "code",
   "execution_count": 34,
   "metadata": {},
   "outputs": [],
   "source": [
    "def play_tic_tac_toe ():\n",
    "    firstMarker = start_tic_tac_toe()\n",
    "    if firstMarker == 'X':\n",
    "        secondMarker = 'O'\n",
    "    else: \n",
    "        secondMarker = 'X'\n",
    "\n",
    "    # initialize board and open positions    \n",
    "    board = [' ']*9\n",
    "    openPositions = list(range(1,10)) \n",
    "    hasWon = False\n",
    "    playerPositions = [[],[]]\n",
    "\n",
    "    players = [firstMarker, secondMarker]\n",
    "    while not hasWon or len(openPositions) ==0 :\n",
    "        for iplayer in range(0,len(players)):\n",
    "            print (f'Ready {players[iplayer]} ...')\n",
    "            # get position\n",
    "            pickedPosition = get_position_input(openPositions)\n",
    "            # keep track of which player picked which position\n",
    "            playerPositions[iplayer].append (pickedPosition)\n",
    "            # keep track of positions open on the board\n",
    "            openPositions.remove(pickedPosition)\n",
    "            # update board and display\n",
    "            board = update_board(board,pickedPosition-1,players[iplayer])\n",
    "            display_board(board)\n",
    "            # check to see if a player has won the game\n",
    "            hasWon = check_win(playerPositions[iplayer])\n",
    "            if len(openPositions) == 0 :\n",
    "                print('Its a tie!')\n",
    "                return []\n",
    "            elif hasWon:\n",
    "                print(f'Congratulations, player {iplayer+1}! {players[iplayer]} has won!')\n",
    "                return []\n",
    "\n",
    "        \n",
    "    "
   ]
  },
  {
   "cell_type": "code",
   "execution_count": 35,
   "metadata": {
    "scrolled": true
   },
   "outputs": [
    {
     "name": "stdout",
     "output_type": "stream",
     "text": [
      "Welcome! Let's play tic tac toe!\n",
      "You will be asked to pick positions on the board \n",
      " Positions are as follows:\n",
      "[1, 2, 3]\n",
      "[4, 5, 6]\n",
      "[7, 8, 9]\n",
      "Who goes first? Please input X or O : X\n",
      "Ready X ...\n",
      "Please pick a position (1-9)1\n",
      "['X', ' ', ' ']\n",
      "[' ', ' ', ' ']\n",
      "[' ', ' ', ' ']\n",
      "8\n",
      "Ready O ...\n",
      "Please pick a position (1-9)2\n",
      "['X', 'O', ' ']\n",
      "[' ', ' ', ' ']\n",
      "[' ', ' ', ' ']\n",
      "7\n",
      "Ready X ...\n",
      "Please pick a position (1-9)3\n",
      "['X', 'O', 'X']\n",
      "[' ', ' ', ' ']\n",
      "[' ', ' ', ' ']\n",
      "6\n",
      "Ready O ...\n",
      "Please pick a position (1-9)5\n",
      "['X', 'O', 'X']\n",
      "[' ', 'O', ' ']\n",
      "[' ', ' ', ' ']\n",
      "5\n",
      "Ready X ...\n",
      "Please pick a position (1-9)8\n",
      "['X', 'O', 'X']\n",
      "[' ', 'O', ' ']\n",
      "[' ', 'X', ' ']\n",
      "4\n",
      "Ready O ...\n",
      "Please pick a position (1-9)7\n",
      "['X', 'O', 'X']\n",
      "[' ', 'O', ' ']\n",
      "['O', 'X', ' ']\n",
      "3\n",
      "Ready X ...\n",
      "Please pick a position (1-9)4\n",
      "['X', 'O', 'X']\n",
      "['X', 'O', ' ']\n",
      "['O', 'X', ' ']\n",
      "2\n",
      "Ready O ...\n",
      "Please pick a position (1-9)6\n",
      "['X', 'O', 'X']\n",
      "['X', 'O', 'O']\n",
      "['O', 'X', ' ']\n",
      "1\n",
      "Ready X ...\n",
      "Please pick a position (1-9)9\n",
      "['X', 'O', 'X']\n",
      "['X', 'O', 'O']\n",
      "['O', 'X', 'X']\n",
      "0\n",
      "Its a tie!\n"
     ]
    },
    {
     "data": {
      "text/plain": [
       "True"
      ]
     },
     "execution_count": 35,
     "metadata": {},
     "output_type": "execute_result"
    }
   ],
   "source": [
    "play_tic_tac_toe()\n"
   ]
  },
  {
   "cell_type": "code",
   "execution_count": 3,
   "metadata": {},
   "outputs": [],
   "source": [
    "playerPositions = [[],[]]\n",
    "playerPositions[0].append(1)"
   ]
  },
  {
   "cell_type": "code",
   "execution_count": 4,
   "metadata": {},
   "outputs": [
    {
     "data": {
      "text/plain": [
       "[1]"
      ]
     },
     "execution_count": 4,
     "metadata": {},
     "output_type": "execute_result"
    }
   ],
   "source": [
    "playerPositions[0]"
   ]
  },
  {
   "cell_type": "code",
   "execution_count": 31,
   "metadata": {},
   "outputs": [
    {
     "data": {
      "text/plain": [
       "True"
      ]
     },
     "execution_count": 31,
     "metadata": {},
     "output_type": "execute_result"
    }
   ],
   "source": [
    "len([])==0"
   ]
  },
  {
   "cell_type": "code",
   "execution_count": null,
   "metadata": {},
   "outputs": [],
   "source": []
  },
  {
   "cell_type": "code",
   "execution_count": null,
   "metadata": {},
   "outputs": [],
   "source": []
  }
 ],
 "metadata": {
  "kernelspec": {
   "display_name": "Python 3",
   "language": "python",
   "name": "python3"
  },
  "language_info": {
   "codemirror_mode": {
    "name": "ipython",
    "version": 3
   },
   "file_extension": ".py",
   "mimetype": "text/x-python",
   "name": "python",
   "nbconvert_exporter": "python",
   "pygments_lexer": "ipython3",
   "version": "3.8.5"
  }
 },
 "nbformat": 4,
 "nbformat_minor": 4
}
